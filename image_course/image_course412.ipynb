{
 "cells": [
  {
   "cell_type": "code",
   "execution_count": 92,
   "metadata": {},
   "outputs": [
    {
     "name": "stdout",
     "output_type": "stream",
     "text": [
      "0.05854983152431917\n"
     ]
    }
   ],
   "source": [
    "import numpy as numpy\n",
    "import math\n",
    "array = list(map(int, input().split()))\n",
    "sigma = array[0]\n",
    "x = array[1]\n",
    "y = array[2]\n",
    "res = (1/(2*math.pi* sigma*sigma))*math.exp ((-(x*x)-(y*y))/(2*sigma*sigma))\n",
    "print(res)"
   ]
  },
  {
   "cell_type": "code",
   "execution_count": 1,
   "metadata": {},
   "outputs": [
    {
     "name": "stdout",
     "output_type": "stream",
     "text": [
      "0.00004 0.00117 0.00370 0.00117 0.00004 \n",
      "0.00117 0.03677 0.11586 0.03677 0.00117 \n",
      "0.00370 0.11586 0.36513 0.11586 0.00370 \n",
      "0.00117 0.03677 0.11586 0.03677 0.00117 \n",
      "0.00004 0.00117 0.00370 0.00117 0.00004 \n"
     ]
    }
   ],
   "source": [
    "import numpy as numpy\n",
    "import math\n",
    "sigma = float (input())\n",
    "a = int(round(sigma*6)+1)\n",
    "half = int(round((a-1)/2))\n",
    "# print (a, half)\n",
    "res = numpy.empty((a, a))\n",
    "for x in range(-half, half+1, 1):\n",
    "    for y in range (-half, half+1, 1):\n",
    "        res [x+half,y+half] = (1/(2*math.pi* sigma*sigma))*math.exp ((-(x*x)-(y*y))/(2*sigma*sigma))\n",
    "res = numpy.round (res / numpy.sum (res), 5)\n",
    "\n",
    "for x in range(a):\n",
    "    for y in range (a):\n",
    "        print (f'{res [x,y]:.5f}', end = ' ')\n",
    "    print ()"
   ]
  }
 ],
 "metadata": {
  "kernelspec": {
   "display_name": "Python 3.10.9 64-bit (microsoft store)",
   "language": "python",
   "name": "python3"
  },
  "language_info": {
   "codemirror_mode": {
    "name": "ipython",
    "version": 3
   },
   "file_extension": ".py",
   "mimetype": "text/x-python",
   "name": "python",
   "nbconvert_exporter": "python",
   "pygments_lexer": "ipython3",
   "version": "3.10.9 (tags/v3.10.9:1dd9be6, Dec  6 2022, 20:01:21) [MSC v.1934 64 bit (AMD64)]"
  },
  "orig_nbformat": 4,
  "vscode": {
   "interpreter": {
    "hash": "ac9b9e84abeb210f4ed304763a3407f98a7d6f7b23eb0ef529c957140bb3657f"
   }
  }
 },
 "nbformat": 4,
 "nbformat_minor": 2
}
