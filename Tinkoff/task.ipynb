{
 "cells": [
  {
   "cell_type": "code",
   "execution_count": 37,
   "metadata": {},
   "outputs": [
    {
     "ename": "ValueError",
     "evalue": "invalid literal for int() with base 10: ''",
     "output_type": "error",
     "traceback": [
      "\u001b[1;31m---------------------------------------------------------------------------\u001b[0m",
      "\u001b[1;31mValueError\u001b[0m                                Traceback (most recent call last)",
      "Cell \u001b[1;32mIn [37], line 2\u001b[0m\n\u001b[0;32m      1\u001b[0m \u001b[39m# Первое задание\u001b[39;00m\n\u001b[1;32m----> 2\u001b[0m n \u001b[39m=\u001b[39m \u001b[39mint\u001b[39;49m (\u001b[39minput\u001b[39;49m())\n\u001b[0;32m      3\u001b[0m \u001b[39mif\u001b[39;00m n \u001b[39m%\u001b[39m \u001b[39m3\u001b[39m \u001b[39m==\u001b[39m \u001b[39m0\u001b[39m:\n\u001b[0;32m      4\u001b[0m     \u001b[39mprint\u001b[39m (\u001b[39m2\u001b[39m\u001b[39m*\u001b[39m\u001b[39m*\u001b[39m(n\u001b[39m/\u001b[39m\u001b[39m/\u001b[39m\u001b[39m3\u001b[39m))\n",
      "\u001b[1;31mValueError\u001b[0m: invalid literal for int() with base 10: ''"
     ]
    }
   ],
   "source": [
    "# Первое задание\n",
    "n = int (input())\n",
    "if n % 3 == 0:\n",
    "    print (2**(n//3))\n",
    "else:\n",
    "    print (0)"
   ]
  },
  {
   "cell_type": "code",
   "execution_count": null,
   "metadata": {},
   "outputs": [
    {
     "ename": "ValueError",
     "evalue": "invalid literal for int() with base 10: ''",
     "output_type": "error",
     "traceback": [
      "\u001b[1;31m---------------------------------------------------------------------------\u001b[0m",
      "\u001b[1;31mValueError\u001b[0m                                Traceback (most recent call last)",
      "Cell \u001b[1;32mIn [35], line 3\u001b[0m\n\u001b[0;32m      1\u001b[0m \u001b[39m# Второе задание\u001b[39;00m\n\u001b[0;32m      2\u001b[0m \u001b[39m# import numpy as numpy\u001b[39;00m\n\u001b[1;32m----> 3\u001b[0m n \u001b[39m=\u001b[39m \u001b[39mint\u001b[39;49m (\u001b[39minput\u001b[39;49m())\n\u001b[0;32m      4\u001b[0m speed \u001b[39m=\u001b[39m [\u001b[39mint\u001b[39m (\u001b[39minput\u001b[39m()) \u001b[39mfor\u001b[39;00m i \u001b[39min\u001b[39;00m \u001b[39mrange\u001b[39m(n)]\n\u001b[0;32m      5\u001b[0m \u001b[39mfor\u001b[39;00m i \u001b[39min\u001b[39;00m \u001b[39mrange\u001b[39m (n\u001b[39m-\u001b[39m\u001b[39m1\u001b[39m):\n",
      "\u001b[1;31mValueError\u001b[0m: invalid literal for int() with base 10: ''"
     ]
    }
   ],
   "source": [
    "# Второе задание\n",
    "# import numpy as numpy\n",
    "n = int (input())\n",
    "speed = [int (input()) for i in range(n)]\n",
    "for i in range (n-1):\n",
    "    if speed [i]< speed[i+1]: speed [i+1] = speed [i]\n",
    "print (*speed)"
   ]
  },
  {
   "cell_type": "code",
   "execution_count": null,
   "metadata": {},
   "outputs": [
    {
     "name": "stdout",
     "output_type": "stream",
     "text": [
      "0 0\n"
     ]
    }
   ],
   "source": [
    "# четвёртое задание\n",
    "# import numpy as numpy\n",
    "n = int (input())\n",
    "k_max=0\n",
    "x=0\n",
    "for i in range (1, n+1):    \n",
    "    k = 0\n",
    "    for j in range (1,i+1):\n",
    "        if i % j == 0: k += 1\n",
    "    if k_max <= k: \n",
    "        k_max = k\n",
    "        x = i\n",
    "print (x, k_max)"
   ]
  },
  {
   "cell_type": "code",
   "execution_count": null,
   "metadata": {},
   "outputs": [
    {
     "name": "stdout",
     "output_type": "stream",
     "text": [
      "0\n",
      "\n",
      "0\n",
      "\n",
      "0\n",
      "\n"
     ]
    }
   ],
   "source": [
    "# пятое задание\n",
    "n = int (input())\n",
    "x = [i for i in range(n,0, -1)]\n",
    "if (sum(x) % 3 == 0):\n",
    "    max_sum = sum(x) // 3\n",
    "    for i in range(3):\n",
    "        y = []\n",
    "        j = 0\n",
    "        while (sum(y) < max_sum):\n",
    "            if ((sum(y) + x[j]) <= max_sum):\n",
    "                y.append(x[j])\n",
    "                del x[j]\n",
    "            else:\n",
    "                j += 1\n",
    "        print (len(y))\n",
    "        print(*y)\n",
    "else:\n",
    "    print('-1')"
   ]
  },
  {
   "cell_type": "code",
   "execution_count": 45,
   "metadata": {},
   "outputs": [
    {
     "ename": "TypeError",
     "evalue": "list indices must be integers or slices, not tuple",
     "output_type": "error",
     "traceback": [
      "\u001b[1;31m---------------------------------------------------------------------------\u001b[0m",
      "\u001b[1;31mTypeError\u001b[0m                                 Traceback (most recent call last)",
      "Cell \u001b[1;32mIn [45], line 13\u001b[0m\n\u001b[0;32m     11\u001b[0m \u001b[39mfor\u001b[39;00m r \u001b[39min\u001b[39;00m \u001b[39mrange\u001b[39m(\u001b[39m3\u001b[39m):\n\u001b[0;32m     12\u001b[0m     \u001b[39mfor\u001b[39;00m c \u001b[39min\u001b[39;00m \u001b[39mrange\u001b[39m(\u001b[39m4\u001b[39m):\n\u001b[1;32m---> 13\u001b[0m         \u001b[39mif\u001b[39;00m square [r,c] \u001b[39m==\u001b[39m \u001b[39m0\u001b[39m \u001b[39mand\u001b[39;00m square [r\u001b[39m+\u001b[39m\u001b[39m1\u001b[39m, c] \u001b[39m==\u001b[39m \u001b[39m0\u001b[39m:\n\u001b[0;32m     14\u001b[0m             square [r,c] \u001b[39m=\u001b[39m \u001b[39m1\u001b[39m\n\u001b[0;32m     15\u001b[0m             square [r\u001b[39m+\u001b[39m\u001b[39m1\u001b[39m, c] \u001b[39m=\u001b[39m \u001b[39m1\u001b[39m\n",
      "\u001b[1;31mTypeError\u001b[0m: list indices must be integers or slices, not tuple"
     ]
    }
   ],
   "source": [
    "# третье задание\n",
    "# import numpy as np\n",
    "n = input()\n",
    "square = np.zeros((4, 4), dtype='uint8')\n",
    "for i in range(len(n)):\n",
    "    flag = False\n",
    "    if n[i] == '0':\n",
    "        for r in range(3):\n",
    "            for c in range(4):\n",
    "                if square [r,c] == 0 and square [r+1, c] == 0:\n",
    "                    square [r,c] = 1\n",
    "                    square [r+1, c] = 1\n",
    "                    flag = True\n",
    "                    print (r+1, c+1)\n",
    "                    break\n",
    "            if flag == True: break\n",
    "    else:\n",
    "        if n[i] == '1':\n",
    "            for r in range(4):\n",
    "                for c in range(3):\n",
    "                    if square [r,c] == 0 and square [r, c+1] == 0:\n",
    "                        square [r,c] = 1\n",
    "                        square [r, c+1] = 1\n",
    "                        flag = True\n",
    "                        print (r+1, c+1)\n",
    "                        break\n",
    "                if flag == True: break\n",
    "    for r in range(4):\n",
    "        if sum(square [r,:]) == 4: square [r,:] = 0\n",
    "    for c in range(4):\n",
    "        if sum(square [:,c]) == 4: square [:,c] = 0"
   ]
  },
  {
   "cell_type": "code",
   "execution_count": 79,
   "metadata": {},
   "outputs": [
    {
     "name": "stdout",
     "output_type": "stream",
     "text": [
      "1 1\n",
      "1 2\n",
      "2 2\n",
      "1 4\n",
      "1 1\n",
      "1 2\n",
      "2 2\n",
      "3 1\n",
      "3 3\n",
      "1 4\n",
      "1 1\n",
      "1 3\n",
      "1 1\n",
      "1 2\n"
     ]
    }
   ],
   "source": [
    "# третье задание\n",
    "n = input()\n",
    "square = [[0,0,0,0],\n",
    "          [0,0,0,0],\n",
    "          [0,0,0,0],\n",
    "          [0,0,0,0]]\n",
    "for i in range(len(n)):\n",
    "    flag = False\n",
    "    if n[i] == '0':\n",
    "        for r in range(3):\n",
    "            for c in range(4):\n",
    "                if square [r][c] == 0 and square [r+1][c] == 0:\n",
    "                    square [r][c] = 1\n",
    "                    square [r+1][c] = 1\n",
    "                    flag = True\n",
    "                    print (r+1, c+1)\n",
    "                    break\n",
    "            if flag == True: break\n",
    "    else:\n",
    "        if n[i] == '1':\n",
    "            for r in range(4):\n",
    "                for c in range(3):\n",
    "                    if square [r][c] == 0 and square [r][c+1] == 0:\n",
    "                        square [r][c] = 1\n",
    "                        square [r][c+1] = 1\n",
    "                        flag = True\n",
    "                        print (r+1, c+1)\n",
    "                        break\n",
    "                if flag == True: break\n",
    "    for r in range(4):\n",
    "        if sum(square [r][:]) == 4: square [r][:] = [0] *4\n",
    "    for c in range(4):\n",
    "        if (square [0][0] + square [1][0] + square [2][0] + square [3][0]) == 4: \n",
    "            square [0][0] = 0\n",
    "            square [1][0] = 0\n",
    "            square [2][0] = 0\n",
    "            square [3][0] = 0"
   ]
  },
  {
   "cell_type": "code",
   "execution_count": 75,
   "metadata": {},
   "outputs": [
    {
     "name": "stdout",
     "output_type": "stream",
     "text": [
      "1\n",
      "1 1 1 1\n",
      "[[1, 0, 0, 0], [1, 0, 0, 0], [1, 0, 0, 0], [1, 0, 0, 0]]\n"
     ]
    }
   ],
   "source": [
    "square = [[1,0,0,0],\n",
    "          [1,0,0,0],\n",
    "          [1,0,0,0],\n",
    "          [1,0,0,0]]\n",
    "print (sum(square [0][:]))\n",
    "print (square [0][0], square [1][0], square [2][0], square [3][0])\n",
    "\n",
    "square [:][0] =  [0] *4\n",
    "print (square)"
   ]
  }
 ],
 "metadata": {
  "kernelspec": {
   "display_name": "Python 3",
   "language": "python",
   "name": "python3"
  },
  "language_info": {
   "codemirror_mode": {
    "name": "ipython",
    "version": 3
   },
   "file_extension": ".py",
   "mimetype": "text/x-python",
   "name": "python",
   "nbconvert_exporter": "python",
   "pygments_lexer": "ipython3",
   "version": "3.10.9"
  },
  "orig_nbformat": 4,
  "vscode": {
   "interpreter": {
    "hash": "ac9b9e84abeb210f4ed304763a3407f98a7d6f7b23eb0ef529c957140bb3657f"
   }
  }
 },
 "nbformat": 4,
 "nbformat_minor": 2
}
