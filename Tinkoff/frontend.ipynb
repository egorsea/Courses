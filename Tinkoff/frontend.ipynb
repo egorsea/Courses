{
 "cells": [
  {
   "cell_type": "code",
   "execution_count": 14,
   "metadata": {},
   "outputs": [
    {
     "name": "stdout",
     "output_type": "stream",
     "text": [
      "NO\n"
     ]
    }
   ],
   "source": [
    "str = input()\n",
    "if (str[0].isdigit() and str[1].isalpha()) or (str[1].isdigit() and str[0].isalpha()):\n",
    "    print ('YES')\n",
    "else:\n",
    "    print ('NO')\n",
    "# isdigit"
   ]
  },
  {
   "cell_type": "code",
   "execution_count": 35,
   "metadata": {},
   "outputs": [
    {
     "name": "stdout",
     "output_type": "stream",
     "text": [
      "NO\n"
     ]
    }
   ],
   "source": [
    "n = int (input())\n",
    "s = input()\n",
    "flag = False\n",
    "l = list(s[0:n])\n",
    "for i in range(n):\n",
    "    for j in range(i,n):\n",
    "        l[i], l[j] = l[j], l[i]\n",
    "        if l[0:n//2] == l[n//2:n]:\n",
    "            flag = True\n",
    "            break\n",
    "        else:\n",
    "            l[i], l[j] = l[j], l[i]\n",
    "            flag = False\n",
    "    if flag == True:\n",
    "        print ('YES')\n",
    "        break\n",
    "if flag == False:\n",
    "    print ('NO')\n",
    "            \n",
    "\n"
   ]
  },
  {
   "cell_type": "code",
   "execution_count": 196,
   "metadata": {},
   "outputs": [
    {
     "name": "stdout",
     "output_type": "stream",
     "text": [
      "YES\n",
      "3\n"
     ]
    }
   ],
   "source": [
    "n = int (input())\n",
    "data = {1: None}\n",
    "for i in range(n-1):\n",
    "    u, v = map(int, input().split())\n",
    "    data[v]=u\n",
    "o = list (map(int, input().split()))\n",
    "max=0\n",
    "for i in data.keys():\n",
    "    # print ('если уволить работника', i)\n",
    "    temp = data.copy()\n",
    "    for j in temp.keys():   # Удалить начальника с номером i\n",
    "        if temp.get(j) == i: temp[j] = None\n",
    "    temp.pop(i,None)\n",
    "    # print(temp)\n",
    "    \n",
    "    problems = 0\n",
    "    for check in temp.keys():\n",
    "        if temp.get(check) != None:\n",
    "            if o[check-1] != o[temp.get(check)-1]: problems += 1\n",
    "            # print ('Проверка', 'работник', check, 'его мнение',o[check-1], 'мнение начальника',o[temp.get(check)-1])\n",
    "    if problems == 0: max = i\n",
    "\n",
    "if max == 0:\n",
    "    print ('NO')\n",
    "else:\n",
    "    print ('YES')\n",
    "    print (max)\n",
    "\n"
   ]
  },
  {
   "cell_type": "code",
   "execution_count": 179,
   "metadata": {},
   "outputs": [
    {
     "name": "stdout",
     "output_type": "stream",
     "text": [
      "{3: 1, 5: 1, 6: 3, 7: 3}\n",
      "{3: 1, 5: 1, 6: 3, 7: 3}\n",
      "{3: 1, 5: 1, 6: 3, 7: 3}\n",
      "{3: 1, 6: 3, 7: 3}\n"
     ]
    }
   ],
   "source": [
    "print (data)\n",
    "temp = data.copy()\n",
    "print (temp)\n",
    "temp.pop(5)\n",
    "print (data)\n",
    "print (temp)"
   ]
  },
  {
   "cell_type": "code",
   "execution_count": 79,
   "metadata": {},
   "outputs": [
    {
     "name": "stdout",
     "output_type": "stream",
     "text": [
      "Yes\n",
      "[0, 2] [2, 7]\n",
      "Yes\n",
      "[0, 7] [2, 7]\n",
      "No\n",
      "[0, 5] [2, 7]\n",
      "[1, 2] [4, 9]\n",
      "Yes\n",
      "[0, 4] [4, 9]\n",
      "Yes\n",
      "[0, 9] [4, 9]\n",
      "No\n",
      "[0, 7] [4, 9]\n",
      "[2, 10] [4, 9, 10]\n",
      "No\n",
      "[0, 8] [4, 9, 10]\n",
      "Yes\n",
      "[0, 9] [4, 9, 10]\n",
      "Yes\n",
      "[0, 10] [4, 9, 10]\n",
      "[3, 9] [4, 10]\n",
      "Yes\n",
      "[0, 4] [4, 10]\n",
      "No\n",
      "[0, 9] [4, 10]\n",
      "Yes\n",
      "[0, 10] [4, 10]\n"
     ]
    }
   ],
   "source": [
    "n = int (input())\n",
    "l = list (map(int, input().split()))\n",
    "q = int (input())\n",
    "for i in range(q):\n",
    "    d = list (map(int, input().split()))\n",
    "    if int(d[0]) == 0 :\n",
    "        if int(d[1]) in l:\n",
    "            print ('Yes')\n",
    "        else:\n",
    "            print ('No')\n",
    "    if d[0] == 1:\n",
    "        l = [l[i]+d[1]for i in range(len(l))]\n",
    "    if d[0] == 2 :\n",
    "        l.append(d[1])\n",
    "    if d[0] == 3 :\n",
    "        l.remove(d[1])\n",
    "    # print(d, l)\n",
    "    "
   ]
  },
  {
   "cell_type": "code",
   "execution_count": 109,
   "metadata": {},
   "outputs": [
    {
     "name": "stdout",
     "output_type": "stream",
     "text": [
      "[1]\n",
      "[2]\n",
      "[2]\n",
      "[3]\n",
      "[1]\n",
      "[1, 2]\n",
      "[2, 2]\n",
      "[2, 3]\n",
      "[3, 1]\n",
      "[1, 2, 2]\n",
      "[2, 2, 3]\n",
      "[2, 3, 1]\n",
      "[1, 2, 2, 3]\n",
      "[2, 2, 3, 1]\n",
      "[1, 2, 2, 3, 1]\n",
      "4\n"
     ]
    }
   ],
   "source": [
    "n = int (input())\n",
    "a = list (map(int, input().split()))\n",
    "k = int (input())\n",
    "count = 0\n",
    "for i in range(1,n+1):\n",
    "    for j in range(n-i+1):\n",
    "        comb = a[j:j+i]\n",
    "        lst = []\n",
    "        for c in range(len(comb)):\n",
    "            if comb[c] not in lst:\n",
    "                lst.append(comb[c])\n",
    "        if len(lst) >= k:\n",
    "            count += 1\n",
    "print (count)\n"
   ]
  }
 ],
 "metadata": {
  "kernelspec": {
   "display_name": "Python 3",
   "language": "python",
   "name": "python3"
  },
  "language_info": {
   "codemirror_mode": {
    "name": "ipython",
    "version": 3
   },
   "file_extension": ".py",
   "mimetype": "text/x-python",
   "name": "python",
   "nbconvert_exporter": "python",
   "pygments_lexer": "ipython3",
   "version": "3.10.9"
  },
  "orig_nbformat": 4,
  "vscode": {
   "interpreter": {
    "hash": "ac9b9e84abeb210f4ed304763a3407f98a7d6f7b23eb0ef529c957140bb3657f"
   }
  }
 },
 "nbformat": 4,
 "nbformat_minor": 2
}
