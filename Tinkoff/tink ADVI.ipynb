{
 "cells": [
  {
   "cell_type": "code",
   "execution_count": 28,
   "metadata": {},
   "outputs": [
    {
     "data": {
      "text/html": [
       "<div>\n",
       "<style scoped>\n",
       "    .dataframe tbody tr th:only-of-type {\n",
       "        vertical-align: middle;\n",
       "    }\n",
       "\n",
       "    .dataframe tbody tr th {\n",
       "        vertical-align: top;\n",
       "    }\n",
       "\n",
       "    .dataframe thead th {\n",
       "        text-align: right;\n",
       "    }\n",
       "</style>\n",
       "<table border=\"1\" class=\"dataframe\">\n",
       "  <thead>\n",
       "    <tr style=\"text-align: right;\">\n",
       "      <th></th>\n",
       "      <th>groups</th>\n",
       "      <th>uniform</th>\n",
       "      <th>gauss_1</th>\n",
       "      <th>gauss_2</th>\n",
       "      <th>gauss_3</th>\n",
       "    </tr>\n",
       "  </thead>\n",
       "  <tbody>\n",
       "    <tr>\n",
       "      <th>476</th>\n",
       "      <td>группа_1</td>\n",
       "      <td>95</td>\n",
       "      <td>3.010291</td>\n",
       "      <td>2.156346</td>\n",
       "      <td>57.455851</td>\n",
       "    </tr>\n",
       "    <tr>\n",
       "      <th>315</th>\n",
       "      <td>группа_5</td>\n",
       "      <td>77</td>\n",
       "      <td>0.190277</td>\n",
       "      <td>-9.934550</td>\n",
       "      <td>62.694177</td>\n",
       "    </tr>\n",
       "    <tr>\n",
       "      <th>490</th>\n",
       "      <td>группа_4</td>\n",
       "      <td>96</td>\n",
       "      <td>-0.282161</td>\n",
       "      <td>9.211071</td>\n",
       "      <td>54.688895</td>\n",
       "    </tr>\n",
       "    <tr>\n",
       "      <th>748</th>\n",
       "      <td>группа_3</td>\n",
       "      <td>56</td>\n",
       "      <td>1.127080</td>\n",
       "      <td>-12.391793</td>\n",
       "      <td>30.192353</td>\n",
       "    </tr>\n",
       "    <tr>\n",
       "      <th>471</th>\n",
       "      <td>группа_5</td>\n",
       "      <td>52</td>\n",
       "      <td>-1.238270</td>\n",
       "      <td>10.938748</td>\n",
       "      <td>52.682052</td>\n",
       "    </tr>\n",
       "    <tr>\n",
       "      <th>...</th>\n",
       "      <td>...</td>\n",
       "      <td>...</td>\n",
       "      <td>...</td>\n",
       "      <td>...</td>\n",
       "      <td>...</td>\n",
       "    </tr>\n",
       "    <tr>\n",
       "      <th>260</th>\n",
       "      <td>группа_4</td>\n",
       "      <td>57</td>\n",
       "      <td>-1.484164</td>\n",
       "      <td>-5.911598</td>\n",
       "      <td>49.330196</td>\n",
       "    </tr>\n",
       "    <tr>\n",
       "      <th>146</th>\n",
       "      <td>группа_4</td>\n",
       "      <td>78</td>\n",
       "      <td>-0.379041</td>\n",
       "      <td>-3.132954</td>\n",
       "      <td>60.329900</td>\n",
       "    </tr>\n",
       "    <tr>\n",
       "      <th>972</th>\n",
       "      <td>группа_1</td>\n",
       "      <td>52</td>\n",
       "      <td>-0.857206</td>\n",
       "      <td>0.835715</td>\n",
       "      <td>51.926114</td>\n",
       "    </tr>\n",
       "    <tr>\n",
       "      <th>161</th>\n",
       "      <td>группа_1</td>\n",
       "      <td>62</td>\n",
       "      <td>-0.195475</td>\n",
       "      <td>3.496498</td>\n",
       "      <td>66.310250</td>\n",
       "    </tr>\n",
       "    <tr>\n",
       "      <th>587</th>\n",
       "      <td>группа_5</td>\n",
       "      <td>60</td>\n",
       "      <td>0.093496</td>\n",
       "      <td>-9.164475</td>\n",
       "      <td>60.897843</td>\n",
       "    </tr>\n",
       "  </tbody>\n",
       "</table>\n",
       "<p>992 rows × 5 columns</p>\n",
       "</div>"
      ],
      "text/plain": [
       "       groups  uniform   gauss_1    gauss_2    gauss_3\n",
       "476  группа_1       95  3.010291   2.156346  57.455851\n",
       "315  группа_5       77  0.190277  -9.934550  62.694177\n",
       "490  группа_4       96 -0.282161   9.211071  54.688895\n",
       "748  группа_3       56  1.127080 -12.391793  30.192353\n",
       "471  группа_5       52 -1.238270  10.938748  52.682052\n",
       "..        ...      ...       ...        ...        ...\n",
       "260  группа_4       57 -1.484164  -5.911598  49.330196\n",
       "146  группа_4       78 -0.379041  -3.132954  60.329900\n",
       "972  группа_1       52 -0.857206   0.835715  51.926114\n",
       "161  группа_1       62 -0.195475   3.496498  66.310250\n",
       "587  группа_5       60  0.093496  -9.164475  60.897843\n",
       "\n",
       "[992 rows x 5 columns]"
      ]
     },
     "execution_count": 28,
     "metadata": {},
     "output_type": "execute_result"
    }
   ],
   "source": [
    "import random\n",
    "import pandas as pd\n",
    "random.seed (\"АДВИ_2023\")\n",
    "\n",
    "index = list (range(1,1001))\n",
    "random.shuffle(index)\n",
    "\n",
    "population  = [\"группа_1\", \"группа_2\", \"группа_3\", \"группа_4\", \"группа_5\"]\n",
    "groups = random.choices(population, k=1000)\n",
    "\n",
    "uniform = [random.randint(50, 100) for _ in range(1000)]\n",
    "\n",
    "gauss_1 = [random.gauss(0, 1) for _ in range(1000)]\n",
    "gauss_2 = [random.gauss(0, 12) for _ in range(1000)]\n",
    "gauss_3 = [random.gauss(50, 9) for _ in range(1000)]\n",
    "\n",
    "df = pd.DataFrame({'groups': groups,  'uniform': uniform, \n",
    "                   'gauss_1': gauss_1, 'gauss_2': gauss_2, 'gauss_3': gauss_3},\n",
    "                    index = index)\n",
    "\n",
    "df.loc[df.index % 121 == 0, 'gauss_1'] = None\n",
    "df.loc[df.gauss_2 % 1 > 0.95, 'gauss_2'] = None\n",
    "df.gauss_2.fillna(df.gauss_2.mean(), inplace=True)\n",
    "df.dropna(inplace=True)\n",
    "\n",
    "\n",
    "df"
   ]
  },
  {
   "cell_type": "code",
   "execution_count": 29,
   "metadata": {},
   "outputs": [
    {
     "data": {
      "text/plain": [
       "(992, 5)"
      ]
     },
     "execution_count": 29,
     "metadata": {},
     "output_type": "execute_result"
    }
   ],
   "source": [
    "df.shape"
   ]
  },
  {
   "cell_type": "code",
   "execution_count": 74,
   "metadata": {},
   "outputs": [
    {
     "name": "stdout",
     "output_type": "stream",
     "text": [
      "-0.25772907098361775 11.932412472249064\n"
     ]
    }
   ],
   "source": [
    "mean = df['gauss_2'].mean()\n",
    "std_dev = df['gauss_2'].std()\n",
    "print (mean, std_dev)\n"
   ]
  },
  {
   "cell_type": "code",
   "execution_count": 76,
   "metadata": {},
   "outputs": [
    {
     "data": {
      "text/plain": [
       "группа_4    222\n",
       "группа_1    215\n",
       "группа_2    194\n",
       "группа_3    184\n",
       "группа_5    177\n",
       "Name: groups, dtype: int64"
      ]
     },
     "execution_count": 76,
     "metadata": {},
     "output_type": "execute_result"
    }
   ],
   "source": [
    "df.groups.value_counts()"
   ]
  },
  {
   "cell_type": "code",
   "execution_count": 77,
   "metadata": {},
   "outputs": [
    {
     "data": {
      "text/plain": [
       "6"
      ]
     },
     "execution_count": 77,
     "metadata": {},
     "output_type": "execute_result"
    }
   ],
   "source": [
    "df.loc [df.groups =='группа_5'].index.min()"
   ]
  },
  {
   "cell_type": "code",
   "execution_count": 78,
   "metadata": {},
   "outputs": [
    {
     "name": "stdout",
     "output_type": "stream",
     "text": [
      "94.0 118\n"
     ]
    }
   ],
   "source": [
    "# Находим 90% перцентиль\n",
    "pct90 = df['uniform'].quantile(0.9)\n",
    "\n",
    "# Фильтруем записи, значение которых не ниже 90% перцентиля\n",
    "filtered_df = df[df['uniform'] >= pct90]\n",
    "\n",
    "# Получаем количество записей\n",
    "count = len(filtered_df)\n",
    "print (pct90, count)"
   ]
  },
  {
   "cell_type": "code",
   "execution_count": 47,
   "metadata": {},
   "outputs": [
    {
     "data": {
      "text/plain": [
       "groups\n",
       "группа_1    49.876708\n",
       "группа_2    49.990529\n",
       "группа_3    49.459261\n",
       "группа_4    49.069511\n",
       "группа_5    49.936910\n",
       "Name: gauss_3, dtype: float64"
      ]
     },
     "execution_count": 47,
     "metadata": {},
     "output_type": "execute_result"
    }
   ],
   "source": [
    "df.groupby(by=\"groups\").median().gauss_3"
   ]
  },
  {
   "cell_type": "code",
   "execution_count": 80,
   "metadata": {},
   "outputs": [
    {
     "data": {
      "text/plain": [
       "groups\n",
       "группа_1   -22.109394\n",
       "группа_2   -38.365537\n",
       "группа_3   -36.187520\n",
       "группа_4   -29.901064\n",
       "группа_5   -40.394911\n",
       "Name: gauss_2, dtype: float64"
      ]
     },
     "execution_count": 80,
     "metadata": {},
     "output_type": "execute_result"
    }
   ],
   "source": [
    "df.groupby(by=\"groups\").min().uniform\n",
    "df.groupby(by=\"groups\").min().gauss_1\n",
    "df.groupby(by=\"groups\").min().gauss_2\n",
    "\n"
   ]
  },
  {
   "cell_type": "code",
   "execution_count": 73,
   "metadata": {},
   "outputs": [
    {
     "name": "stdout",
     "output_type": "stream",
     "text": [
      "0.10641825158661447\n"
     ]
    }
   ],
   "source": [
    "df['new_gauss'] =  (df['gauss_1'] + df['gauss_2']) / df['gauss_3']\n",
    "p70 = df['new_gauss'].quantile(0.7)\n",
    "print (p70)\n"
   ]
  },
  {
   "cell_type": "code",
   "execution_count": 27,
   "metadata": {},
   "outputs": [
    {
     "data": {
      "image/png": "[encoded data removed]",
      "text/plain": [
       "<Figure size 640x480 with 1 Axes>"
      ]
     },
     "metadata": {},
     "output_type": "display_data"
    }
   ],
   "source": [
    "h = df['gauss_3'].hist()\n",
    "fig = h.get_figure()"
   ]
  }
 ],
 "metadata": {
  "kernelspec": {
   "display_name": "Python 3",
   "language": "python",
   "name": "python3"
  },
  "language_info": {
   "codemirror_mode": {
    "name": "ipython",
    "version": 3
   },
   "file_extension": ".py",
   "mimetype": "text/x-python",
   "name": "python",
   "nbconvert_exporter": "python",
   "pygments_lexer": "ipython3",
   "version": "3.10.10"
  },
  "orig_nbformat": 4
 },
 "nbformat": 4,
 "nbformat_minor": 2
}
